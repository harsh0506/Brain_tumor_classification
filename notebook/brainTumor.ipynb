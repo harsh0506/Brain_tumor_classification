{
  "nbformat": 4,
  "nbformat_minor": 0,
  "metadata": {
    "colab": {
      "provenance": [],
      "gpuType": "T4"
    },
    "kernelspec": {
      "name": "python3",
      "display_name": "Python 3"
    },
    "language_info": {
      "name": "python"
    },
    "accelerator": "GPU"
  },
  "cells": [
    {
      "cell_type": "code",
      "execution_count": null,
      "metadata": {
        "id": "BMA6s5o8ntyP",
        "colab": {
          "base_uri": "https://localhost:8080/"
        },
        "outputId": "8e790202-4f84-4a04-ecfc-a342b919d754"
      },
      "outputs": [
        {
          "output_type": "stream",
          "name": "stdout",
          "text": [
            "Testing  Training\n"
          ]
        }
      ],
      "source": [
        "! ls \"/content/drive/MyDrive/image classification-braintumor\"\n"
      ]
    },
    {
      "cell_type": "code",
      "source": [
        "import tensorflow as tf\n",
        "import pandas as pd\n",
        "import numpy as np\n",
        "import random\n",
        "import os\n",
        "\n",
        "# Visualization\n",
        "import matplotlib.pyplot as plt\n",
        "import seaborn as sns\n",
        "\n",
        "# Building Model\n",
        "from keras.utils import plot_model\n",
        "from tensorflow.keras import models\n",
        "from tensorflow.keras.layers import BatchNormalization\n",
        "from tensorflow.keras.layers import MaxPooling2D\n",
        "from tensorflow.keras.layers import Conv2D\n",
        "from tensorflow.keras.layers import Dense\n",
        "from tensorflow.keras.layers import Dropout\n",
        "from tensorflow.keras.layers import Flatten\n",
        "from tensorflow.keras.optimizers import legacy\n",
        "\n",
        "# Training Model\n",
        "from tensorflow.keras.callbacks import EarlyStopping\n",
        "from tensorflow.keras.callbacks import ReduceLROnPlateau\n",
        "from tensorflow.keras.callbacks import ModelCheckpoint\n",
        "\n",
        "# Data Processing\n",
        "from tensorflow.keras.preprocessing.image import ImageDataGenerator\n",
        "from tensorflow.keras.preprocessing.image import img_to_array\n",
        "from tensorflow.keras.preprocessing.image import array_to_img\n",
        "from tensorflow.keras.preprocessing.image import load_img"
      ],
      "metadata": {
        "id": "LeRPTRB6EV6K"
      },
      "execution_count": null,
      "outputs": []
    },
    {
      "cell_type": "code",
      "source": [
        "# Global variables\n",
        "SAVE = False\n",
        "SEED = 111\n",
        "\n",
        "# Setting seed for consistent results\n",
        "tf.keras.utils.set_random_seed(SEED)\n",
        "tf.random.set_seed(SEED)\n",
        "np.random.seed(SEED)\n",
        "\n",
        "# Data Visualization updates\n",
        "%config InlineBackend.figure_format = 'retina'\n",
        "plt.rcParams[\"figure.figsize\"] = (16, 10)\n",
        "plt.rcParams.update({'font.size': 14})\n",
        "\n",
        "# Data Classifications\n",
        "CLASS_TYPES = ['pituitary', 'notumor', 'meningioma', 'glioma']\n",
        "N_TYPES = len(CLASS_TYPES)"
      ],
      "metadata": {
        "id": "ThFi9mOfEjv9"
      },
      "execution_count": null,
      "outputs": []
    },
    {
      "cell_type": "code",
      "source": [
        "# Function for inporting data\n",
        "def get_data_labels(directory, shuffle=True, random_state=0):\n",
        "    \"\"\"\n",
        "    Function used for going into the main training directory\n",
        "    whose directory has sub-class-types.\n",
        "    \"\"\"\n",
        "    from sklearn.utils import shuffle\n",
        "    import os\n",
        "\n",
        "    # Lists to store data and labels\n",
        "    data_path = []\n",
        "    data_labels = []\n",
        "\n",
        "    for label in os.listdir(directory):\n",
        "        label_dir = os.path.join(directory, label)\n",
        "\n",
        "        # Avoid MacOS storing path\n",
        "        if not os.path.isdir(label_dir):\n",
        "            continue\n",
        "\n",
        "        # Going into each folder and getting image path\n",
        "        for image in os.listdir(label_dir):\n",
        "            image_path = os.path.join(label_dir, image)\n",
        "            data_path.append(image_path)\n",
        "            data_labels.append(label)\n",
        "\n",
        "    if shuffle:\n",
        "        data_path, data_labels = shuffle(data_path, data_labels, random_state=random_state)\n",
        "\n",
        "    return data_path, data_labels"
      ],
      "metadata": {
        "id": "qEydxeCqEmqO"
      },
      "execution_count": null,
      "outputs": []
    },
    {
      "cell_type": "code",
      "source": [
        "# Setting up file paths for training and testing\n",
        "USER_PATH = r\"/content/drive/MyDrive/image classification-braintumor\"\n",
        "train_dir = USER_PATH + r'/Training/'\n",
        "test_dir = USER_PATH + r'/Testing/'\n",
        "\n",
        "# Getting data using above function\n",
        "train_paths, train_labels = get_data_labels(train_dir)\n",
        "test_paths, test_labels = get_data_labels(test_dir)\n",
        "\n",
        "# Printing traing and testing sample sizes\n",
        "print('Training')\n",
        "print(f'Number of Paths: {len(train_paths)}')\n",
        "print(f'Number of Labels: {len(train_labels)}')\n",
        "print('\\nTesting')\n",
        "print(f'Number of Paths: {len(test_paths)}')\n",
        "print(f'Number of Labels: {len(test_labels)}')"
      ],
      "metadata": {
        "colab": {
          "base_uri": "https://localhost:8080/"
        },
        "id": "JqOeijC0EpV9",
        "outputId": "d4bd4adb-87f5-49f6-b494-bcd330ba4643"
      },
      "execution_count": null,
      "outputs": [
        {
          "output_type": "stream",
          "name": "stdout",
          "text": [
            "Training\n",
            "Number of Paths: 5722\n",
            "Number of Labels: 5722\n",
            "\n",
            "Testing\n",
            "Number of Paths: 1321\n",
            "Number of Labels: 1321\n"
          ]
        }
      ]
    },
    {
      "cell_type": "code",
      "source": [
        "# getting image to test output\n",
        "im = load_img(train_paths[3], target_size=(150, 150))\n",
        "im = img_to_array(im)\n",
        "\n",
        "# Reshape it to (1, 150, 150, 3)\n",
        "im = np.expand_dims(im, axis=0)\n",
        "print(f'x reshaped: {im.shape}')\n",
        "\n",
        "# normilzation tensor\n",
        "im /= np.max(im) # ~ np.max(img_tensor)\n",
        "\n",
        "# Convert the array back to the image format\n",
        "im = array_to_img(im[0])\n",
        "display(im)"
      ],
      "metadata": {
        "colab": {
          "base_uri": "https://localhost:8080/",
          "height": 184
        },
        "id": "tGdEDeIkFC-h",
        "outputId": "2049c527-cd7a-4bce-d123-f92937bad965"
      },
      "execution_count": null,
      "outputs": [
        {
          "output_type": "stream",
          "name": "stdout",
          "text": [
            "x reshaped: (1, 150, 150, 3)\n"
          ]
        },
        {
          "output_type": "display_data",
          "data": {
            "text/plain": [
              "<PIL.Image.Image image mode=RGB size=150x150>"
            ],
            "image/png": "[encoded data removed]"
          },
          "metadata": {}
        }
      ]
    },
    {
      "cell_type": "code",
      "source": [
        "# Image size\n",
        "image_size = (150, 150)\n",
        "\n",
        "# Training batch size\n",
        "batch_size = 32"
      ],
      "metadata": {
        "id": "2Me8FCUdFFwR"
      },
      "execution_count": null,
      "outputs": []
    },
    {
      "cell_type": "code",
      "source": [
        "train_datagen = ImageDataGenerator(rescale=1./255,\n",
        "                                   rotation_range=10,\n",
        "                                   brightness_range=(0.85, 1.15),\n",
        "                                   width_shift_range=0.002,\n",
        "                                   height_shift_range=0.002,\n",
        "                                   shear_range=12.5,\n",
        "                                   zoom_range=0,\n",
        "                                   horizontal_flip=True,\n",
        "                                   vertical_flip=False,\n",
        "                                   fill_mode=\"nearest\")\n",
        "\n",
        "\n",
        "# applying the generator to training data with constant seed\n",
        "train_generator = train_datagen.flow_from_directory(train_dir,\n",
        "                                                    target_size=image_size,\n",
        "                                                    batch_size=batch_size,\n",
        "                                                    class_mode=\"categorical\",\n",
        "                                                    seed=SEED)\n",
        "\n",
        "# No augmentation of the test data, just rescaling\n",
        "test_datagen = ImageDataGenerator(rescale=1./255)\n",
        "\n",
        "# applying the generator to testing data with constant seed\n",
        "test_generator = test_datagen.flow_from_directory(test_dir,\n",
        "                                                  target_size=image_size,\n",
        "                                                  batch_size=batch_size,\n",
        "                                                  class_mode=\"categorical\",\n",
        "                                                  shuffle=False,\n",
        "                                                  seed=SEED)"
      ],
      "metadata": {
        "colab": {
          "base_uri": "https://localhost:8080/"
        },
        "id": "e3PhDlloFPvV",
        "outputId": "24ab99a3-5e6a-454a-dccf-0b53f01ef3b6"
      },
      "execution_count": null,
      "outputs": [
        {
          "output_type": "stream",
          "name": "stdout",
          "text": [
            "Found 5722 images belonging to 4 classes.\n",
            "Found 1321 images belonging to 4 classes.\n"
          ]
        }
      ]
    },
    {
      "cell_type": "code",
      "source": [
        "# Accessing class indices for training data generator\n",
        "class_indices_train = train_generator.class_indices\n",
        "class_indices_train_list = list(train_generator.class_indices.keys())\n",
        "\n",
        "\n",
        "# Displaying categorical types\n",
        "print(\"Categorical types for the training data:\")\n",
        "print(class_indices_train)"
      ],
      "metadata": {
        "colab": {
          "base_uri": "https://localhost:8080/"
        },
        "id": "9xhJnlHTFRfS",
        "outputId": "1b4f2588-62bf-4a95-98f1-b2eb02a62cf1"
      },
      "execution_count": null,
      "outputs": [
        {
          "output_type": "stream",
          "name": "stdout",
          "text": [
            "Categorical types for the training data:\n",
            "{'glioma': 0, 'meningioma': 1, 'notumor': 2, 'pituitary': 3}\n"
          ]
        }
      ]
    },
    {
      "cell_type": "code",
      "source": [
        "# Image shape: height, width, RBG\n",
        "image_shape = (image_size[0], image_size[1], 3)\n",
        "\n",
        "# Training epochs\n",
        "epochs = 40\n",
        "\n",
        "# Steps per epoch\n",
        "steps_per_epoch = train_generator.samples // batch_size\n",
        "\n",
        "# Validation steps\n",
        "validation_steps = test_generator.samples // batch_size\n",
        "\n",
        "print(f'Image shape: {image_shape}')\n",
        "print(f'Epochs: {epochs}')\n",
        "print(f'Batch size: {batch_size}')\n",
        "print(f'Steps Per Epoch: {steps_per_epoch}')\n",
        "print(f'Validation steps: {validation_steps}')"
      ],
      "metadata": {
        "colab": {
          "base_uri": "https://localhost:8080/"
        },
        "id": "t3HSLxDnFU0D",
        "outputId": "dabc147d-19d3-420a-d536-aae00aca80ec"
      },
      "execution_count": null,
      "outputs": [
        {
          "output_type": "stream",
          "name": "stdout",
          "text": [
            "Image shape: (150, 150, 3)\n",
            "Epochs: 40\n",
            "Batch size: 32\n",
            "Steps Per Epoch: 178\n",
            "Validation steps: 41\n"
          ]
        }
      ]
    },
    {
      "cell_type": "code",
      "source": [
        "# –––––––––––––––––––––––––––––––––––––– #\n",
        "# Output Images and Labels Visualization #\n",
        "# –––––––––––––––––––––––––––––––––––––– #\n",
        "def plot_sample_predictions(model, test_generator, categories, test_dir, num_samples=9, figsize=(12, 8)):\n",
        "    \"\"\"\n",
        "    Nice display of prediction samples to see CNN predictions\n",
        "    for classification.\n",
        "    \"\"\"\n",
        "    # Make predictions on the test dataset\n",
        "    predictions = model.predict(test_generator)\n",
        "    predicted_categories = np.argmax(predictions, axis=1)\n",
        "    true_categories = test_generator.classes\n",
        "\n",
        "    # Randomly sample test images\n",
        "    test_images = np.array(test_generator.filepaths)\n",
        "    sample_indices = np.random.choice(len(test_images), size=num_samples, replace=False)\n",
        "    sample_images = test_images[sample_indices]\n",
        "    sample_predictions = [categories[predicted_categories[i]] for i in sample_indices]\n",
        "    sample_true_labels = [categories[true_categories[i]] for i in sample_indices]\n",
        "\n",
        "    # Plot sample images with their predicted and true labels\n",
        "    plt.figure(figsize=figsize)\n",
        "\n",
        "    # Loop over samples\n",
        "    for i, image_path in enumerate(sample_images):\n",
        "        # Form subplot and plot\n",
        "        plt.subplot(3, 3, i + 1)\n",
        "        img = plt.imread(image_path)\n",
        "        plt.imshow(img)\n",
        "        plt.axis(\"off\")\n",
        "\n",
        "        # Set axis label color depending on correct prediction or not\n",
        "        prediction_color = 'green' if sample_predictions[i] == sample_true_labels[i] else 'red'\n",
        "        plt.title(f\"Predicted: {sample_predictions[i]}\\nTrue: {sample_true_labels[i]}\", color=prediction_color)\n",
        "\n",
        "    plt.tight_layout()\n",
        "    plt.show()\n",
        "\n",
        "\n",
        "# –––––––––––––––––––––––––––––––––––––– #\n",
        "#            Confusion matrix            #\n",
        "# –––––––––––––––––––––––––––––––––––––– #\n",
        "def CM(CNN_model, test_generator, categories):\n",
        "    \"\"\"\n",
        "    Function to return the confusion matrix of a given CNN model.\n",
        "    \"\"\"\n",
        "    from sklearn.metrics import confusion_matrix\n",
        "    # Predictions on test dataset\n",
        "    predictions = CNN_model.predict(test_generator)\n",
        "    predicted_categories = np.argmax(predictions, axis=1)\n",
        "    true_categories = test_generator.classes\n",
        "\n",
        "    # Create a confusion matrix\n",
        "    confusion_matrix_array = confusion_matrix(true_categories, predicted_categories)\n",
        "\n",
        "    return confusion_matrix_array\n",
        "\n",
        "\n",
        "# –––––––––––––––––––––––––––––––––––––– #\n",
        "#             Metric Analysis            #\n",
        "# –––––––––––––––––––––––––––––––––––––– #\n",
        "def calculate_metrics(confusion_matrix, categories):\n",
        "    \"\"\"\n",
        "    Function to calculate important metrics for multi-classification problems.\n",
        "    \"\"\"\n",
        "    # Calculating 4 different metrics\n",
        "    precision = np.diag(confusion_matrix) / np.sum(confusion_matrix, axis=0)\n",
        "    recall = np.diag(confusion_matrix) / np.sum(confusion_matrix, axis=1)\n",
        "    f1_score = 2 * (precision * recall) / (precision + recall)\n",
        "    accuracy = np.sum(np.diag(confusion_matrix)) / np.sum(confusion_matrix)\n",
        "\n",
        "    # Printing the results based on each category\n",
        "    for i, category in enumerate(categories):\n",
        "        print(f\"Class: {category.title()}\")\n",
        "        print(f\"Precision: {precision[i]:.3f}\")\n",
        "        print(f\"Recall: {recall[i]:.3f}\")\n",
        "        print(f\"F1-Score: {f1_score[i]:.3f}\\n\")\n",
        "\n",
        "    # Showing the total accuracy of the model\n",
        "    print(f\"\\nAccuracy: {accuracy:.3f}\")"
      ],
      "metadata": {
        "id": "uwD_CXXsFaNr"
      },
      "execution_count": null,
      "outputs": []
    },
    {
      "cell_type": "code",
      "source": [
        "from tensorflow.keras.callbacks import EarlyStopping\n",
        "from tensorflow.keras.callbacks import ReduceLROnPlateau\n",
        "\n",
        "EarlyStopping(monitor='val_loss', min_delta=0, patience=0, verbose=0, mode='auto', baseline=None, restore_best_weights=False, start_from_epoch=0)\n",
        "ReduceLROnPlateau(monitor='val_loss', factor=0.1, patience=10, verbose=0, mode='auto', min_delta=0.0001, cooldown=0, min_lr=0)"
      ],
      "metadata": {
        "colab": {
          "base_uri": "https://localhost:8080/"
        },
        "id": "GlzKklhCFbVQ",
        "outputId": "3833571f-59bd-425b-883f-c7f58cb532df"
      },
      "execution_count": null,
      "outputs": [
        {
          "output_type": "execute_result",
          "data": {
            "text/plain": [
              "<keras.callbacks.ReduceLROnPlateau at 0x7ac44db11630>"
            ]
          },
          "metadata": {},
          "execution_count": 15
        }
      ]
    },
    {
      "cell_type": "code",
      "source": [
        "# Define the model architecture\n",
        "model_2 = models.Sequential()\n",
        "\n",
        "# Convolutional layer 1\n",
        "model_2.add(Conv2D(32, (4, 4), activation=\"relu\", input_shape=image_shape))\n",
        "model_2.add(MaxPooling2D(pool_size=(3, 3)))\n",
        "\n",
        "# Convolutional layer 2\n",
        "model_2.add(Conv2D(64, (4, 4), activation=\"relu\"))\n",
        "model_2.add(MaxPooling2D(pool_size=(3, 3)))\n",
        "\n",
        "# Convolutional layer 3\n",
        "model_2.add(Conv2D(128, (4, 4), activation=\"relu\"))\n",
        "model_2.add(MaxPooling2D(pool_size=(3, 3))) #\n",
        "\n",
        "# Convolutional layer 4\n",
        "model_2.add(Conv2D(128, (4, 4), activation=\"relu\"))\n",
        "model_2.add(Flatten())\n",
        "\n",
        "# Full connect layers\n",
        "model_2.add(Dense(512, activation=\"relu\"))\n",
        "model_2.add(Dropout(0.5, seed=SEED))\n",
        "model_2.add(Dense(N_TYPES, activation=\"softmax\"))\n",
        "\n",
        "model_2.summary()\n",
        "\n",
        "\n",
        "optimizer = legacy.Adam(learning_rate=0.001, beta_1=0.869, beta_2=0.995)\n",
        "\n",
        "model_2.compile(optimizer=optimizer, loss='categorical_crossentropy', metrics= ['accuracy'])"
      ],
      "metadata": {
        "colab": {
          "base_uri": "https://localhost:8080/"
        },
        "id": "CpIVLX9DFh0Y",
        "outputId": "ebfdd507-f256-4e39-c49d-c22839de9b1b"
      },
      "execution_count": null,
      "outputs": [
        {
          "output_type": "stream",
          "name": "stdout",
          "text": [
            "Model: \"sequential\"\n",
            "_________________________________________________________________\n",
            " Layer (type)                Output Shape              Param #   \n",
            "=================================================================\n",
            " conv2d (Conv2D)             (None, 147, 147, 32)      1568      \n",
            "                                                                 \n",
            " max_pooling2d (MaxPooling2D  (None, 49, 49, 32)       0         \n",
            " )                                                               \n",
            "                                                                 \n",
            " conv2d_1 (Conv2D)           (None, 46, 46, 64)        32832     \n",
            "                                                                 \n",
            " max_pooling2d_1 (MaxPooling  (None, 15, 15, 64)       0         \n",
            " 2D)                                                             \n",
            "                                                                 \n",
            " conv2d_2 (Conv2D)           (None, 12, 12, 128)       131200    \n",
            "                                                                 \n",
            " max_pooling2d_2 (MaxPooling  (None, 4, 4, 128)        0         \n",
            " 2D)                                                             \n",
            "                                                                 \n",
            " conv2d_3 (Conv2D)           (None, 1, 1, 128)         262272    \n",
            "                                                                 \n",
            " flatten (Flatten)           (None, 128)               0         \n",
            "                                                                 \n",
            " dense (Dense)               (None, 512)               66048     \n",
            "                                                                 \n",
            " dropout (Dropout)           (None, 512)               0         \n",
            "                                                                 \n",
            " dense_1 (Dense)             (None, 4)                 2052      \n",
            "                                                                 \n",
            "=================================================================\n",
            "Total params: 495,972\n",
            "Trainable params: 495,972\n",
            "Non-trainable params: 0\n",
            "_________________________________________________________________\n"
          ]
        }
      ]
    },
    {
      "cell_type": "code",
      "source": [
        "# Stop training if loss doesn't keep decreasing.\n",
        "model_2_es = EarlyStopping(monitor='loss', min_delta=1e-9, patience=8, verbose=True)\n",
        "model_2_rlr = ReduceLROnPlateau(monitor='val_loss', factor=0.3, patience=5, verbose=True)\n",
        "\n",
        "# Training the model\n",
        "history_2 = model_2.fit(train_generator,\n",
        "                        steps_per_epoch=steps_per_epoch,\n",
        "                        epochs=epochs,\n",
        "                        validation_data=test_generator,\n",
        "                        validation_steps=validation_steps,\n",
        "                        callbacks=[model_2_es, model_2_rlr])"
      ],
      "metadata": {
        "colab": {
          "base_uri": "https://localhost:8080/"
        },
        "id": "K8_UweZrFnTe",
        "outputId": "d57d3684-9928-41f4-c289-b3353899e9a6"
      },
      "execution_count": null,
      "outputs": [
        {
          "output_type": "stream",
          "name": "stdout",
          "text": [
            "Epoch 1/40\n",
            "178/178 [==============================] - 2817s 16s/step - loss: 0.8229 - accuracy: 0.6232 - val_loss: 0.7760 - val_accuracy: 0.7165 - lr: 0.0010\n",
            "Epoch 2/40\n",
            "178/178 [==============================] - 61s 345ms/step - loss: 0.4957 - accuracy: 0.8021 - val_loss: 0.6661 - val_accuracy: 0.7454 - lr: 0.0010\n",
            "Epoch 3/40\n",
            "178/178 [==============================] - 57s 319ms/step - loss: 0.3988 - accuracy: 0.8439 - val_loss: 0.7266 - val_accuracy: 0.7027 - lr: 0.0010\n",
            "Epoch 4/40\n",
            "178/178 [==============================] - 59s 330ms/step - loss: 0.3248 - accuracy: 0.8750 - val_loss: 0.4362 - val_accuracy: 0.8338 - lr: 0.0010\n",
            "Epoch 5/40\n",
            "178/178 [==============================] - 57s 319ms/step - loss: 0.2489 - accuracy: 0.9081 - val_loss: 0.2369 - val_accuracy: 0.9184 - lr: 0.0010\n",
            "Epoch 6/40\n",
            "178/178 [==============================] - 55s 307ms/step - loss: 0.2002 - accuracy: 0.9262 - val_loss: 0.2510 - val_accuracy: 0.9123 - lr: 0.0010\n",
            "Epoch 7/40\n",
            "178/178 [==============================] - 57s 319ms/step - loss: 0.1735 - accuracy: 0.9380 - val_loss: 0.2094 - val_accuracy: 0.9184 - lr: 0.0010\n",
            "Epoch 8/40\n",
            "178/178 [==============================] - 56s 316ms/step - loss: 0.1371 - accuracy: 0.9489 - val_loss: 0.2829 - val_accuracy: 0.9329 - lr: 0.0010\n",
            "Epoch 9/40\n",
            "178/178 [==============================] - 57s 319ms/step - loss: 0.1439 - accuracy: 0.9503 - val_loss: 0.1762 - val_accuracy: 0.9375 - lr: 0.0010\n",
            "Epoch 10/40\n",
            "178/178 [==============================] - 57s 320ms/step - loss: 0.1351 - accuracy: 0.9541 - val_loss: 0.1424 - val_accuracy: 0.9512 - lr: 0.0010\n",
            "Epoch 11/40\n",
            "178/178 [==============================] - 56s 315ms/step - loss: 0.0963 - accuracy: 0.9634 - val_loss: 0.1126 - val_accuracy: 0.9627 - lr: 0.0010\n",
            "Epoch 12/40\n",
            "178/178 [==============================] - 56s 318ms/step - loss: 0.0989 - accuracy: 0.9654 - val_loss: 0.1097 - val_accuracy: 0.9581 - lr: 0.0010\n",
            "Epoch 13/40\n",
            "178/178 [==============================] - 57s 319ms/step - loss: 0.0901 - accuracy: 0.9666 - val_loss: 0.2024 - val_accuracy: 0.9284 - lr: 0.0010\n",
            "Epoch 14/40\n",
            "178/178 [==============================] - 57s 320ms/step - loss: 0.0764 - accuracy: 0.9736 - val_loss: 0.2446 - val_accuracy: 0.9223 - lr: 0.0010\n",
            "Epoch 15/40\n",
            "178/178 [==============================] - 55s 309ms/step - loss: 0.0932 - accuracy: 0.9685 - val_loss: 0.0790 - val_accuracy: 0.9787 - lr: 0.0010\n",
            "Epoch 16/40\n",
            "178/178 [==============================] - 57s 318ms/step - loss: 0.0795 - accuracy: 0.9733 - val_loss: 0.1880 - val_accuracy: 0.9383 - lr: 0.0010\n",
            "Epoch 17/40\n",
            "178/178 [==============================] - 58s 326ms/step - loss: 0.0552 - accuracy: 0.9810 - val_loss: 0.0795 - val_accuracy: 0.9794 - lr: 0.0010\n",
            "Epoch 18/40\n",
            "178/178 [==============================] - 58s 323ms/step - loss: 0.0622 - accuracy: 0.9775 - val_loss: 0.2036 - val_accuracy: 0.9436 - lr: 0.0010\n",
            "Epoch 19/40\n",
            "178/178 [==============================] - 56s 315ms/step - loss: 0.0637 - accuracy: 0.9796 - val_loss: 0.0536 - val_accuracy: 0.9825 - lr: 0.0010\n",
            "Epoch 20/40\n",
            "178/178 [==============================] - 55s 309ms/step - loss: 0.0592 - accuracy: 0.9805 - val_loss: 0.1366 - val_accuracy: 0.9649 - lr: 0.0010\n",
            "Epoch 21/40\n",
            "178/178 [==============================] - 56s 317ms/step - loss: 0.0650 - accuracy: 0.9775 - val_loss: 0.1962 - val_accuracy: 0.9482 - lr: 0.0010\n",
            "Epoch 22/40\n",
            "178/178 [==============================] - 57s 320ms/step - loss: 0.0559 - accuracy: 0.9819 - val_loss: 0.2216 - val_accuracy: 0.9345 - lr: 0.0010\n",
            "Epoch 23/40\n",
            "178/178 [==============================] - 55s 309ms/step - loss: 0.0551 - accuracy: 0.9822 - val_loss: 0.1150 - val_accuracy: 0.9718 - lr: 0.0010\n",
            "Epoch 24/40\n",
            "178/178 [==============================] - ETA: 0s - loss: 0.0471 - accuracy: 0.9851\n",
            "Epoch 24: ReduceLROnPlateau reducing learning rate to 0.0003000000142492354.\n",
            "178/178 [==============================] - 57s 318ms/step - loss: 0.0471 - accuracy: 0.9851 - val_loss: 0.1087 - val_accuracy: 0.9703 - lr: 0.0010\n",
            "Epoch 25/40\n",
            "178/178 [==============================] - 56s 313ms/step - loss: 0.0254 - accuracy: 0.9917 - val_loss: 0.0680 - val_accuracy: 0.9787 - lr: 3.0000e-04\n",
            "Epoch 26/40\n",
            "178/178 [==============================] - 58s 323ms/step - loss: 0.0152 - accuracy: 0.9951 - val_loss: 0.0406 - val_accuracy: 0.9855 - lr: 3.0000e-04\n",
            "Epoch 27/40\n",
            "178/178 [==============================] - 56s 312ms/step - loss: 0.0142 - accuracy: 0.9958 - val_loss: 0.0432 - val_accuracy: 0.9855 - lr: 3.0000e-04\n",
            "Epoch 28/40\n",
            "178/178 [==============================] - 56s 314ms/step - loss: 0.0179 - accuracy: 0.9949 - val_loss: 0.0565 - val_accuracy: 0.9855 - lr: 3.0000e-04\n",
            "Epoch 29/40\n",
            "178/178 [==============================] - 55s 308ms/step - loss: 0.0164 - accuracy: 0.9954 - val_loss: 0.0647 - val_accuracy: 0.9802 - lr: 3.0000e-04\n",
            "Epoch 30/40\n",
            "178/178 [==============================] - 56s 314ms/step - loss: 0.0182 - accuracy: 0.9949 - val_loss: 0.0488 - val_accuracy: 0.9840 - lr: 3.0000e-04\n",
            "Epoch 31/40\n",
            "178/178 [==============================] - ETA: 0s - loss: 0.0099 - accuracy: 0.9961\n",
            "Epoch 31: ReduceLROnPlateau reducing learning rate to 9.000000427477062e-05.\n",
            "178/178 [==============================] - 57s 318ms/step - loss: 0.0099 - accuracy: 0.9961 - val_loss: 0.0753 - val_accuracy: 0.9794 - lr: 3.0000e-04\n",
            "Epoch 32/40\n",
            "178/178 [==============================] - 57s 320ms/step - loss: 0.0071 - accuracy: 0.9975 - val_loss: 0.0558 - val_accuracy: 0.9878 - lr: 9.0000e-05\n",
            "Epoch 33/40\n",
            "178/178 [==============================] - 57s 318ms/step - loss: 0.0047 - accuracy: 0.9986 - val_loss: 0.0403 - val_accuracy: 0.9909 - lr: 9.0000e-05\n",
            "Epoch 34/40\n",
            "178/178 [==============================] - 57s 317ms/step - loss: 0.0051 - accuracy: 0.9981 - val_loss: 0.0432 - val_accuracy: 0.9916 - lr: 9.0000e-05\n",
            "Epoch 35/40\n",
            "178/178 [==============================] - 56s 315ms/step - loss: 0.0068 - accuracy: 0.9982 - val_loss: 0.0413 - val_accuracy: 0.9916 - lr: 9.0000e-05\n",
            "Epoch 36/40\n",
            "178/178 [==============================] - 56s 314ms/step - loss: 0.0027 - accuracy: 0.9988 - val_loss: 0.0440 - val_accuracy: 0.9893 - lr: 9.0000e-05\n",
            "Epoch 37/40\n",
            "178/178 [==============================] - 59s 329ms/step - loss: 0.0064 - accuracy: 0.9979 - val_loss: 0.0368 - val_accuracy: 0.9901 - lr: 9.0000e-05\n",
            "Epoch 38/40\n",
            "178/178 [==============================] - 59s 329ms/step - loss: 0.0067 - accuracy: 0.9984 - val_loss: 0.0465 - val_accuracy: 0.9916 - lr: 9.0000e-05\n",
            "Epoch 39/40\n",
            "178/178 [==============================] - 55s 308ms/step - loss: 0.0090 - accuracy: 0.9972 - val_loss: 0.0346 - val_accuracy: 0.9916 - lr: 9.0000e-05\n",
            "Epoch 40/40\n",
            "178/178 [==============================] - 57s 320ms/step - loss: 0.0033 - accuracy: 0.9989 - val_loss: 0.0360 - val_accuracy: 0.9924 - lr: 9.0000e-05\n"
          ]
        }
      ]
    },
    {
      "cell_type": "code",
      "source": [
        "model_2.save('braintumor_model_gpu_2.h5')"
      ],
      "metadata": {
        "id": "h0yMlHTNXO6b"
      },
      "execution_count": null,
      "outputs": []
    },
    {
      "cell_type": "code",
      "source": [
        "from tensorflow.keras.models import load_model\n",
        "from tensorflow.keras.preprocessing.image import img_to_array, load_img\n",
        "\n",
        "CLASS_TYPES = [ 'glioma','meningioma', 'notumor', 'pituitary']\n",
        "model = load_model('/content/braintumor_model_gpu_1.h5')\n",
        "Img_file = \"/content/Te-glTr_0000.jpg\"\n",
        "image = load_img(Img_file, target_size=(150, 150))\n",
        "image_array = img_to_array(image)\n",
        "image_array = np.expand_dims(image_array, axis=0)\n",
        "image_array /= 255.0  # Normalize the image\n",
        "\n",
        "predictions = model.predict(image_array)\n",
        "predicted_class_index = np.argmax(predictions)\n",
        "predicted_class_label = CLASS_TYPES[predicted_class_index]\n",
        "\n",
        "response = {\n",
        "            'class_label': predicted_class_label,\n",
        "            'class_index': predicted_class_index,\n",
        "            'probabilities': predictions.tolist()[0]\n",
        "        }"
      ],
      "metadata": {
        "colab": {
          "base_uri": "https://localhost:8080/"
        },
        "id": "L2L38sZMuUCJ",
        "outputId": "9546f59a-ec7c-4a0b-dac7-759e0d388fb9"
      },
      "execution_count": null,
      "outputs": [
        {
          "output_type": "stream",
          "name": "stderr",
          "text": [
            "WARNING:tensorflow:5 out of the last 5 calls to <function Model.make_predict_function.<locals>.predict_function at 0x7e949c1b48b0> triggered tf.function retracing. Tracing is expensive and the excessive number of tracings could be due to (1) creating @tf.function repeatedly in a loop, (2) passing tensors with different shapes, (3) passing Python objects instead of tensors. For (1), please define your @tf.function outside of the loop. For (2), @tf.function has reduce_retracing=True option that can avoid unnecessary retracing. For (3), please refer to https://www.tensorflow.org/guide/function#controlling_retracing and https://www.tensorflow.org/api_docs/python/tf/function for  more details.\n"
          ]
        },
        {
          "output_type": "stream",
          "name": "stdout",
          "text": [
            "1/1 [==============================] - 0s 190ms/step\n"
          ]
        }
      ]
    },
    {
      "cell_type": "code",
      "source": [
        "import tensorflow as tf\n",
        "print(tf.__version__)"
      ],
      "metadata": {
        "colab": {
          "base_uri": "https://localhost:8080/"
        },
        "id": "Iz4gDlO51njh",
        "outputId": "de525246-2912-421e-87c5-194f57e58944"
      },
      "execution_count": null,
      "outputs": [
        {
          "output_type": "stream",
          "name": "stdout",
          "text": [
            "2.12.0\n"
          ]
        }
      ]
    },
    {
      "cell_type": "code",
      "source": [
        "import keras\n",
        "print(keras.__version__)"
      ],
      "metadata": {
        "colab": {
          "base_uri": "https://localhost:8080/"
        },
        "id": "_kIqUEeM19xe",
        "outputId": "c0746400-dc13-48a4-f223-f57f88f4db7d"
      },
      "execution_count": null,
      "outputs": [
        {
          "output_type": "stream",
          "name": "stdout",
          "text": [
            "2.12.0\n"
          ]
        }
      ]
    },
    {
      "cell_type": "code",
      "source": [
        "response"
      ],
      "metadata": {
        "colab": {
          "base_uri": "https://localhost:8080/"
        },
        "id": "m_ZM0zeQvhcQ",
        "outputId": "434a52db-b023-4264-8d18-f6a329d01ba8"
      },
      "execution_count": null,
      "outputs": [
        {
          "output_type": "execute_result",
          "data": {
            "text/plain": [
              "{'class_label': 'glioma',\n",
              " 'class_index': 0,\n",
              " 'probabilities': [0.9999659061431885,\n",
              "  1.3301638546181493e-06,\n",
              "  2.401806682428287e-07,\n",
              "  3.2504038244951516e-05]}"
            ]
          },
          "metadata": {},
          "execution_count": 11
        }
      ]
    }
  ]
}